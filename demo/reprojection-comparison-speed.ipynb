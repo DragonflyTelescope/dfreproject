{
 "cells": [
  {
   "metadata": {},
   "cell_type": "markdown",
   "source": [
    "# Comparison of interpolation methods\n",
    "We compare the results of our interpolation method versus reproject to verify the results."
   ],
   "id": "cf9e6f3c3cb0b117"
  },
  {
   "metadata": {
    "ExecuteTime": {
     "end_time": "2025-02-24T19:58:51.430338Z",
     "start_time": "2025-02-24T19:58:49.304441Z"
    }
   },
   "cell_type": "code",
   "source": [
    "from astropy.io import fits\n",
    "import time\n",
    "from reprojection.reproject import calculate_reprojection\n",
    "from reproject import reproject_interp\n",
    "from demo.create_test_data import create_test_fits"
   ],
   "id": "e95959819f1dfec1",
   "outputs": [],
   "execution_count": 1
  },
  {
   "metadata": {
    "ExecuteTime": {
     "end_time": "2025-02-24T19:58:55.919429Z",
     "start_time": "2025-02-24T19:58:51.435889Z"
    }
   },
   "cell_type": "code",
   "source": [
    "source_file, target_file = create_test_fits()\n",
    "source_hdu = fits.open(source_file)[0]\n",
    "target_hdu = fits.open(target_file)[0]"
   ],
   "id": "cf9fee248fa3e643",
   "outputs": [],
   "execution_count": 2
  },
  {
   "metadata": {
    "ExecuteTime": {
     "end_time": "2025-02-24T19:58:56.974793Z",
     "start_time": "2025-02-24T19:58:56.022327Z"
    }
   },
   "cell_type": "code",
   "source": [
    "start = time.time()\n",
    "reprojected_source_torch = calculate_reprojection(source_hdu, target_hdu, interpolation_mode=\"bicubic\")\n",
    "print(f\"total time: {time.time()-start}\")"
   ],
   "id": "562cf4f9a6d0bb63",
   "outputs": [
    {
     "name": "stdout",
     "output_type": "stream",
     "text": [
      "total time: 0.9497613906860352\n"
     ]
    }
   ],
   "execution_count": 3
  },
  {
   "metadata": {
    "ExecuteTime": {
     "end_time": "2025-02-24T19:59:43.520040Z",
     "start_time": "2025-02-24T19:58:57.036262Z"
    }
   },
   "cell_type": "code",
   "source": [
    "start = time.time()\n",
    "reprojected_source_reproj = reproject_interp(source_hdu, source_hdu.header,order='bicubic')[0]\n",
    "print(f\"total time: {time.time()-start}\")"
   ],
   "id": "217fd46098b92fe6",
   "outputs": [
    {
     "name": "stdout",
     "output_type": "stream",
     "text": [
      "total time: 46.480875968933105\n"
     ]
    }
   ],
   "execution_count": 4
  }
 ],
 "metadata": {
  "kernelspec": {
   "display_name": "Python 3",
   "language": "python",
   "name": "python3"
  },
  "language_info": {
   "codemirror_mode": {
    "name": "ipython",
    "version": 2
   },
   "file_extension": ".py",
   "mimetype": "text/x-python",
   "name": "python",
   "nbconvert_exporter": "python",
   "pygments_lexer": "ipython2",
   "version": "2.7.6"
  }
 },
 "nbformat": 4,
 "nbformat_minor": 5
}
