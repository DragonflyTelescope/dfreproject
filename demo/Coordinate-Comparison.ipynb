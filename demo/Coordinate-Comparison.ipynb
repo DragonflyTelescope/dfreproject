{
 "cells": [
  {
   "metadata": {},
   "cell_type": "markdown",
   "source": [
    "# Comparison of Astropy vs Torch implementation of coordinate transformation\n",
    "In this notebook, we will compare the astropy wcs `pixel_to_world` transformation and our implementation. For our implementation, we've broken down what we do in `reprojection.reproject.calculate_skyCoords()` for readibility."
   ],
   "id": "66efec16355f2b58"
  },
  {
   "metadata": {
    "ExecuteTime": {
     "end_time": "2025-04-14T14:01:15.276475Z",
     "start_time": "2025-04-14T14:01:13.503731Z"
    }
   },
   "cell_type": "code",
   "source": [
    "from astropy.io import fits\n",
    "from astropy.wcs import WCS\n",
    "import numpy as np\n",
    "import torch"
   ],
   "id": "96c2997c284d8c07",
   "outputs": [],
   "execution_count": 1
  },
  {
   "metadata": {
    "ExecuteTime": {
     "end_time": "2025-04-14T14:01:16.333584Z",
     "start_time": "2025-04-14T14:01:15.977037Z"
    }
   },
   "cell_type": "code",
   "source": [
    "device = 'cpu'\n",
    "# Load your target WCS\n",
    "target_hdu = fits.open('./data/Atik1442426-0035_0032_light.fits')[0]\n",
    "target_wcs = WCS(target_hdu.header)\n",
    "target_shape = target_hdu.data.shape\n",
    "\n",
    "# Convert the data to native byte order before creating tensors\n",
    "target_data = target_hdu.data.astype(target_hdu.data.dtype.newbyteorder('='))\n",
    "# Now create the tensor\n",
    "target_image = torch.tensor(target_data, dtype=torch.float64, device=device)"
   ],
   "id": "69ae1057cf95927d",
   "outputs": [
    {
     "ename": "FileNotFoundError",
     "evalue": "[Errno 2] No such file or directory: './data/Atik1442426-0035_0032_light.fits'",
     "output_type": "error",
     "traceback": [
      "\u001B[0;31m---------------------------------------------------------------------------\u001B[0m",
      "\u001B[0;31mFileNotFoundError\u001B[0m                         Traceback (most recent call last)",
      "Cell \u001B[0;32mIn[2], line 3\u001B[0m\n\u001B[1;32m      1\u001B[0m device \u001B[38;5;241m=\u001B[39m \u001B[38;5;124m'\u001B[39m\u001B[38;5;124mcpu\u001B[39m\u001B[38;5;124m'\u001B[39m\n\u001B[1;32m      2\u001B[0m \u001B[38;5;66;03m# Load your target WCS\u001B[39;00m\n\u001B[0;32m----> 3\u001B[0m target_hdu \u001B[38;5;241m=\u001B[39m \u001B[43mfits\u001B[49m\u001B[38;5;241;43m.\u001B[39;49m\u001B[43mopen\u001B[49m\u001B[43m(\u001B[49m\u001B[38;5;124;43m'\u001B[39;49m\u001B[38;5;124;43m./data/Atik1442426-0035_0032_light.fits\u001B[39;49m\u001B[38;5;124;43m'\u001B[39;49m\u001B[43m)\u001B[49m[\u001B[38;5;241m0\u001B[39m]\n\u001B[1;32m      4\u001B[0m target_wcs \u001B[38;5;241m=\u001B[39m WCS(target_hdu\u001B[38;5;241m.\u001B[39mheader)\n\u001B[1;32m      5\u001B[0m target_shape \u001B[38;5;241m=\u001B[39m target_hdu\u001B[38;5;241m.\u001B[39mdata\u001B[38;5;241m.\u001B[39mshape\n",
      "File \u001B[0;32m~/anaconda3/envs/astro/lib/python3.10/site-packages/astropy/io/fits/hdu/hdulist.py:223\u001B[0m, in \u001B[0;36mfitsopen\u001B[0;34m(name, mode, memmap, save_backup, cache, lazy_load_hdus, ignore_missing_simple, use_fsspec, fsspec_kwargs, decompress_in_memory, **kwargs)\u001B[0m\n\u001B[1;32m    220\u001B[0m \u001B[38;5;28;01mif\u001B[39;00m \u001B[38;5;129;01mnot\u001B[39;00m name:\n\u001B[1;32m    221\u001B[0m     \u001B[38;5;28;01mraise\u001B[39;00m \u001B[38;5;167;01mValueError\u001B[39;00m(\u001B[38;5;124mf\u001B[39m\u001B[38;5;124m\"\u001B[39m\u001B[38;5;124mEmpty filename: \u001B[39m\u001B[38;5;132;01m{\u001B[39;00mname\u001B[38;5;132;01m!r}\u001B[39;00m\u001B[38;5;124m\"\u001B[39m)\n\u001B[0;32m--> 223\u001B[0m \u001B[38;5;28;01mreturn\u001B[39;00m \u001B[43mHDUList\u001B[49m\u001B[38;5;241;43m.\u001B[39;49m\u001B[43mfromfile\u001B[49m\u001B[43m(\u001B[49m\n\u001B[1;32m    224\u001B[0m \u001B[43m    \u001B[49m\u001B[43mname\u001B[49m\u001B[43m,\u001B[49m\n\u001B[1;32m    225\u001B[0m \u001B[43m    \u001B[49m\u001B[43mmode\u001B[49m\u001B[43m,\u001B[49m\n\u001B[1;32m    226\u001B[0m \u001B[43m    \u001B[49m\u001B[43mmemmap\u001B[49m\u001B[43m,\u001B[49m\n\u001B[1;32m    227\u001B[0m \u001B[43m    \u001B[49m\u001B[43msave_backup\u001B[49m\u001B[43m,\u001B[49m\n\u001B[1;32m    228\u001B[0m \u001B[43m    \u001B[49m\u001B[43mcache\u001B[49m\u001B[43m,\u001B[49m\n\u001B[1;32m    229\u001B[0m \u001B[43m    \u001B[49m\u001B[43mlazy_load_hdus\u001B[49m\u001B[43m,\u001B[49m\n\u001B[1;32m    230\u001B[0m \u001B[43m    \u001B[49m\u001B[43mignore_missing_simple\u001B[49m\u001B[43m,\u001B[49m\n\u001B[1;32m    231\u001B[0m \u001B[43m    \u001B[49m\u001B[43muse_fsspec\u001B[49m\u001B[38;5;241;43m=\u001B[39;49m\u001B[43muse_fsspec\u001B[49m\u001B[43m,\u001B[49m\n\u001B[1;32m    232\u001B[0m \u001B[43m    \u001B[49m\u001B[43mfsspec_kwargs\u001B[49m\u001B[38;5;241;43m=\u001B[39;49m\u001B[43mfsspec_kwargs\u001B[49m\u001B[43m,\u001B[49m\n\u001B[1;32m    233\u001B[0m \u001B[43m    \u001B[49m\u001B[43mdecompress_in_memory\u001B[49m\u001B[38;5;241;43m=\u001B[39;49m\u001B[43mdecompress_in_memory\u001B[49m\u001B[43m,\u001B[49m\n\u001B[1;32m    234\u001B[0m \u001B[43m    \u001B[49m\u001B[38;5;241;43m*\u001B[39;49m\u001B[38;5;241;43m*\u001B[39;49m\u001B[43mkwargs\u001B[49m\u001B[43m,\u001B[49m\n\u001B[1;32m    235\u001B[0m \u001B[43m\u001B[49m\u001B[43m)\u001B[49m\n",
      "File \u001B[0;32m~/anaconda3/envs/astro/lib/python3.10/site-packages/astropy/io/fits/hdu/hdulist.py:487\u001B[0m, in \u001B[0;36mHDUList.fromfile\u001B[0;34m(cls, fileobj, mode, memmap, save_backup, cache, lazy_load_hdus, ignore_missing_simple, **kwargs)\u001B[0m\n\u001B[1;32m    468\u001B[0m \u001B[38;5;129m@classmethod\u001B[39m\n\u001B[1;32m    469\u001B[0m \u001B[38;5;28;01mdef\u001B[39;00m\u001B[38;5;250m \u001B[39m\u001B[38;5;21mfromfile\u001B[39m(\n\u001B[1;32m    470\u001B[0m     \u001B[38;5;28mcls\u001B[39m,\n\u001B[0;32m   (...)\u001B[0m\n\u001B[1;32m    478\u001B[0m     \u001B[38;5;241m*\u001B[39m\u001B[38;5;241m*\u001B[39mkwargs,\n\u001B[1;32m    479\u001B[0m ):\n\u001B[1;32m    480\u001B[0m \u001B[38;5;250m    \u001B[39m\u001B[38;5;124;03m\"\"\"\u001B[39;00m\n\u001B[1;32m    481\u001B[0m \u001B[38;5;124;03m    Creates an `HDUList` instance from a file-like object.\u001B[39;00m\n\u001B[1;32m    482\u001B[0m \n\u001B[0;32m   (...)\u001B[0m\n\u001B[1;32m    485\u001B[0m \u001B[38;5;124;03m    documentation for details of the parameters accepted by this method).\u001B[39;00m\n\u001B[1;32m    486\u001B[0m \u001B[38;5;124;03m    \"\"\"\u001B[39;00m\n\u001B[0;32m--> 487\u001B[0m     \u001B[38;5;28;01mreturn\u001B[39;00m \u001B[38;5;28;43mcls\u001B[39;49m\u001B[38;5;241;43m.\u001B[39;49m\u001B[43m_readfrom\u001B[49m\u001B[43m(\u001B[49m\n\u001B[1;32m    488\u001B[0m \u001B[43m        \u001B[49m\u001B[43mfileobj\u001B[49m\u001B[38;5;241;43m=\u001B[39;49m\u001B[43mfileobj\u001B[49m\u001B[43m,\u001B[49m\n\u001B[1;32m    489\u001B[0m \u001B[43m        \u001B[49m\u001B[43mmode\u001B[49m\u001B[38;5;241;43m=\u001B[39;49m\u001B[43mmode\u001B[49m\u001B[43m,\u001B[49m\n\u001B[1;32m    490\u001B[0m \u001B[43m        \u001B[49m\u001B[43mmemmap\u001B[49m\u001B[38;5;241;43m=\u001B[39;49m\u001B[43mmemmap\u001B[49m\u001B[43m,\u001B[49m\n\u001B[1;32m    491\u001B[0m \u001B[43m        \u001B[49m\u001B[43msave_backup\u001B[49m\u001B[38;5;241;43m=\u001B[39;49m\u001B[43msave_backup\u001B[49m\u001B[43m,\u001B[49m\n\u001B[1;32m    492\u001B[0m \u001B[43m        \u001B[49m\u001B[43mcache\u001B[49m\u001B[38;5;241;43m=\u001B[39;49m\u001B[43mcache\u001B[49m\u001B[43m,\u001B[49m\n\u001B[1;32m    493\u001B[0m \u001B[43m        \u001B[49m\u001B[43mignore_missing_simple\u001B[49m\u001B[38;5;241;43m=\u001B[39;49m\u001B[43mignore_missing_simple\u001B[49m\u001B[43m,\u001B[49m\n\u001B[1;32m    494\u001B[0m \u001B[43m        \u001B[49m\u001B[43mlazy_load_hdus\u001B[49m\u001B[38;5;241;43m=\u001B[39;49m\u001B[43mlazy_load_hdus\u001B[49m\u001B[43m,\u001B[49m\n\u001B[1;32m    495\u001B[0m \u001B[43m        \u001B[49m\u001B[38;5;241;43m*\u001B[39;49m\u001B[38;5;241;43m*\u001B[39;49m\u001B[43mkwargs\u001B[49m\u001B[43m,\u001B[49m\n\u001B[1;32m    496\u001B[0m \u001B[43m    \u001B[49m\u001B[43m)\u001B[49m\n",
      "File \u001B[0;32m~/anaconda3/envs/astro/lib/python3.10/site-packages/astropy/io/fits/hdu/hdulist.py:1169\u001B[0m, in \u001B[0;36mHDUList._readfrom\u001B[0;34m(cls, fileobj, data, mode, memmap, cache, lazy_load_hdus, ignore_missing_simple, use_fsspec, fsspec_kwargs, decompress_in_memory, **kwargs)\u001B[0m\n\u001B[1;32m   1166\u001B[0m \u001B[38;5;28;01mif\u001B[39;00m fileobj \u001B[38;5;129;01mis\u001B[39;00m \u001B[38;5;129;01mnot\u001B[39;00m \u001B[38;5;28;01mNone\u001B[39;00m:\n\u001B[1;32m   1167\u001B[0m     \u001B[38;5;28;01mif\u001B[39;00m \u001B[38;5;129;01mnot\u001B[39;00m \u001B[38;5;28misinstance\u001B[39m(fileobj, _File):\n\u001B[1;32m   1168\u001B[0m         \u001B[38;5;66;03m# instantiate a FITS file object (ffo)\u001B[39;00m\n\u001B[0;32m-> 1169\u001B[0m         fileobj \u001B[38;5;241m=\u001B[39m \u001B[43m_File\u001B[49m\u001B[43m(\u001B[49m\n\u001B[1;32m   1170\u001B[0m \u001B[43m            \u001B[49m\u001B[43mfileobj\u001B[49m\u001B[43m,\u001B[49m\n\u001B[1;32m   1171\u001B[0m \u001B[43m            \u001B[49m\u001B[43mmode\u001B[49m\u001B[38;5;241;43m=\u001B[39;49m\u001B[43mmode\u001B[49m\u001B[43m,\u001B[49m\n\u001B[1;32m   1172\u001B[0m \u001B[43m            \u001B[49m\u001B[43mmemmap\u001B[49m\u001B[38;5;241;43m=\u001B[39;49m\u001B[43mmemmap\u001B[49m\u001B[43m,\u001B[49m\n\u001B[1;32m   1173\u001B[0m \u001B[43m            \u001B[49m\u001B[43mcache\u001B[49m\u001B[38;5;241;43m=\u001B[39;49m\u001B[43mcache\u001B[49m\u001B[43m,\u001B[49m\n\u001B[1;32m   1174\u001B[0m \u001B[43m            \u001B[49m\u001B[43muse_fsspec\u001B[49m\u001B[38;5;241;43m=\u001B[39;49m\u001B[43muse_fsspec\u001B[49m\u001B[43m,\u001B[49m\n\u001B[1;32m   1175\u001B[0m \u001B[43m            \u001B[49m\u001B[43mfsspec_kwargs\u001B[49m\u001B[38;5;241;43m=\u001B[39;49m\u001B[43mfsspec_kwargs\u001B[49m\u001B[43m,\u001B[49m\n\u001B[1;32m   1176\u001B[0m \u001B[43m            \u001B[49m\u001B[43mdecompress_in_memory\u001B[49m\u001B[38;5;241;43m=\u001B[39;49m\u001B[43mdecompress_in_memory\u001B[49m\u001B[43m,\u001B[49m\n\u001B[1;32m   1177\u001B[0m \u001B[43m        \u001B[49m\u001B[43m)\u001B[49m\n\u001B[1;32m   1178\u001B[0m     \u001B[38;5;66;03m# The Astropy mode is determined by the _File initializer if the\u001B[39;00m\n\u001B[1;32m   1179\u001B[0m     \u001B[38;5;66;03m# supplied mode was None\u001B[39;00m\n\u001B[1;32m   1180\u001B[0m     mode \u001B[38;5;241m=\u001B[39m fileobj\u001B[38;5;241m.\u001B[39mmode\n",
      "File \u001B[0;32m~/anaconda3/envs/astro/lib/python3.10/site-packages/astropy/io/fits/file.py:218\u001B[0m, in \u001B[0;36m_File.__init__\u001B[0;34m(self, fileobj, mode, memmap, overwrite, cache, use_fsspec, fsspec_kwargs, decompress_in_memory)\u001B[0m\n\u001B[1;32m    216\u001B[0m     \u001B[38;5;28mself\u001B[39m\u001B[38;5;241m.\u001B[39m_open_fileobj(fileobj, mode, overwrite)\n\u001B[1;32m    217\u001B[0m \u001B[38;5;28;01melif\u001B[39;00m \u001B[38;5;28misinstance\u001B[39m(fileobj, (\u001B[38;5;28mstr\u001B[39m, \u001B[38;5;28mbytes\u001B[39m)):\n\u001B[0;32m--> 218\u001B[0m     \u001B[38;5;28;43mself\u001B[39;49m\u001B[38;5;241;43m.\u001B[39;49m\u001B[43m_open_filename\u001B[49m\u001B[43m(\u001B[49m\u001B[43mfileobj\u001B[49m\u001B[43m,\u001B[49m\u001B[43m \u001B[49m\u001B[43mmode\u001B[49m\u001B[43m,\u001B[49m\u001B[43m \u001B[49m\u001B[43moverwrite\u001B[49m\u001B[43m)\u001B[49m\n\u001B[1;32m    219\u001B[0m \u001B[38;5;28;01melse\u001B[39;00m:\n\u001B[1;32m    220\u001B[0m     \u001B[38;5;28mself\u001B[39m\u001B[38;5;241m.\u001B[39m_open_filelike(fileobj, mode, overwrite)\n",
      "File \u001B[0;32m~/anaconda3/envs/astro/lib/python3.10/site-packages/astropy/io/fits/file.py:651\u001B[0m, in \u001B[0;36m_File._open_filename\u001B[0;34m(self, filename, mode, overwrite)\u001B[0m\n\u001B[1;32m    648\u001B[0m ext \u001B[38;5;241m=\u001B[39m os\u001B[38;5;241m.\u001B[39mpath\u001B[38;5;241m.\u001B[39msplitext(\u001B[38;5;28mself\u001B[39m\u001B[38;5;241m.\u001B[39mname)[\u001B[38;5;241m1\u001B[39m]\n\u001B[1;32m    650\u001B[0m \u001B[38;5;28;01mif\u001B[39;00m \u001B[38;5;129;01mnot\u001B[39;00m \u001B[38;5;28mself\u001B[39m\u001B[38;5;241m.\u001B[39m_try_read_compressed(\u001B[38;5;28mself\u001B[39m\u001B[38;5;241m.\u001B[39mname, magic, mode, ext\u001B[38;5;241m=\u001B[39mext):\n\u001B[0;32m--> 651\u001B[0m     \u001B[38;5;28mself\u001B[39m\u001B[38;5;241m.\u001B[39m_file \u001B[38;5;241m=\u001B[39m \u001B[38;5;28;43mopen\u001B[39;49m\u001B[43m(\u001B[49m\u001B[38;5;28;43mself\u001B[39;49m\u001B[38;5;241;43m.\u001B[39;49m\u001B[43mname\u001B[49m\u001B[43m,\u001B[49m\u001B[43m \u001B[49m\u001B[43mIO_FITS_MODES\u001B[49m\u001B[43m[\u001B[49m\u001B[43mmode\u001B[49m\u001B[43m]\u001B[49m\u001B[43m)\u001B[49m\n\u001B[1;32m    652\u001B[0m     \u001B[38;5;28mself\u001B[39m\u001B[38;5;241m.\u001B[39mclose_on_error \u001B[38;5;241m=\u001B[39m \u001B[38;5;28;01mTrue\u001B[39;00m\n\u001B[1;32m    654\u001B[0m \u001B[38;5;66;03m# Make certain we're back at the beginning of the file\u001B[39;00m\n\u001B[1;32m    655\u001B[0m \u001B[38;5;66;03m# BZ2File does not support seek when the file is open for writing, but\u001B[39;00m\n\u001B[1;32m    656\u001B[0m \u001B[38;5;66;03m# when opening a file for write, bz2.BZ2File always truncates anyway.\u001B[39;00m\n",
      "\u001B[0;31mFileNotFoundError\u001B[0m: [Errno 2] No such file or directory: './data/Atik1442426-0035_0032_light.fits'"
     ]
    }
   ],
   "execution_count": 2
  },
  {
   "metadata": {},
   "cell_type": "markdown",
   "source": "Now let's run the astropy results",
   "id": "c9aa0d594e436e44"
  },
  {
   "metadata": {
    "ExecuteTime": {
     "end_time": "2025-03-03T17:37:14.505273Z",
     "start_time": "2025-03-03T17:37:14.269141Z"
    }
   },
   "cell_type": "code",
   "source": [
    "target_wcs_astropy = WCS(target_hdu.header)\n",
    "# Test pixel coordinate\n",
    "x_test, y_test = 200, 200\n",
    "# Get pixel grid for target image\n",
    "H, W = target_image.shape\n",
    "y_grid, x_grid = np.mgrid[0:H, 0:W]  # Note: 0-based indexing\n",
    "\n",
    "# Convert to world coordinates (RA, Dec)\n",
    "ra_astropy, dec_astropy = target_wcs_astropy.wcs_pix2world(x_test, y_test, 0)\n"
   ],
   "id": "8918df65835b4412",
   "outputs": [
    {
     "name": "stdout",
     "output_type": "stream",
     "text": [
      "35.24380952832857 59.09821844046949\n",
      "200.00000000000136 200.00000000000182\n"
     ]
    }
   ],
   "execution_count": 4
  },
  {
   "metadata": {},
   "cell_type": "markdown",
   "source": "And now using our implementation",
   "id": "f5f473af97e5f2cd"
  },
  {
   "metadata": {
    "ExecuteTime": {
     "end_time": "2025-03-03T17:38:10.956554Z",
     "start_time": "2025-03-03T17:38:10.945690Z"
    }
   },
   "cell_type": "code",
   "source": [
    "# Get WCS parameters\n",
    "CRPIX1 = target_wcs_astropy.wcs.crpix[0]\n",
    "CRPIX2 = target_wcs_astropy.wcs.crpix[1]\n",
    "CRVAL1 = target_wcs_astropy.wcs.crval[0]  # Reference RA\n",
    "CRVAL2 = target_wcs_astropy.wcs.crval[1]  # Reference Dec\n",
    "PC_matrix = target_wcs_astropy.wcs.get_pc()  # PC Matrix\n",
    "CDELT = np.array(target_wcs_astropy.wcs.cdelt)  # Scaling factors\n",
    "\n",
    "# Convert numpy arrays to torch tensors if needed\n",
    "if not isinstance(x_test, torch.Tensor):\n",
    "    x = torch.tensor(x_test, device=device, dtype=torch.float64)\n",
    "    y = torch.tensor(y_test, device=device, dtype=torch.float64)\n",
    "\n",
    "# Step 1: Compute Pixel Offsets - Precisely as in wcsprm::p2x\n",
    "u = x - (CRPIX1 - 1)\n",
    "v = y - (CRPIX2 - 1)\n",
    "\n",
    "# Step 2: Apply PC Matrix (Rotation) and CDELT (Scaling)\n",
    "CD_matrix = PC_matrix * CDELT  # Construct CD Matrix\n",
    "CD_matrix = torch.tensor(CD_matrix, device=device, dtype=torch.float64)\n",
    "# Handle both scalar and array inputs\n",
    "if u.dim() == 0:  # scalar\n",
    "    pixel_offsets = torch.tensor([u.item(), v.item()], device=device, dtype=torch.float64)\n",
    "    transformed = torch.matmul(CD_matrix, pixel_offsets)\n",
    "    x_scaled, y_scaled = transformed.unbind()\n",
    "else:  # arrays\n",
    "    # Reshape for batch matrix multiplication if needed\n",
    "    if u.dim() > 1:\n",
    "        original_shape = u.shape\n",
    "        u_flat = u.reshape(-1)\n",
    "        v_flat = v.reshape(-1)\n",
    "    else:\n",
    "        u_flat = u\n",
    "        v_flat = v\n",
    "\n",
    "    # Stack coordinates for batch processing\n",
    "    pixel_offsets = torch.stack([u_flat, v_flat], dim=1)  # Shape: [N, 2]\n",
    "\n",
    "    # Perform batch matrix multiplication\n",
    "    transformed = torch.matmul(pixel_offsets, CD_matrix.T)  # Shape: [N, 2]\n",
    "    x_scaled = transformed[:, 0]\n",
    "    y_scaled = transformed[:, 1]\n",
    "\n",
    "    # Reshape back to original if needed\n",
    "    if u.dim() > 1:\n",
    "        x_scaled = x_scaled.reshape(original_shape)\n",
    "        y_scaled = y_scaled.reshape(original_shape)\n",
    "\n",
    "# Step 3: Use the exact tanx2s logic from WCSLib\n",
    "# Compute the radial distance\n",
    "r = torch.sqrt(x_scaled ** 2 + y_scaled ** 2)\n",
    "r0 = torch.tensor(180.0 / torch.pi, device=device)  # R2D from WCSLib\n",
    "\n",
    "# Apply the tanx2s function exactly as in WCSLib\n",
    "# Note the sign conventions\n",
    "phi = torch.zeros_like(r)\n",
    "non_zero_r = r != 0\n",
    "if torch.any(non_zero_r):\n",
    "    phi[non_zero_r] = torch.rad2deg(torch.atan2(-x_scaled[non_zero_r], y_scaled[non_zero_r]))\n",
    "\n",
    "theta = torch.rad2deg(torch.atan2(r0, r))\n",
    "\n",
    "# Step 4: Now apply the sph2x (spherical to native) transform from prjx2s\n",
    "# First convert to radians exactly as WCSLib would\n",
    "phi_rad = torch.deg2rad(phi)\n",
    "theta_rad = torch.deg2rad(theta)\n",
    "ra0_rad = torch.tensor(CRVAL1 * torch.pi / 180.0, device=device)\n",
    "dec0_rad = torch.tensor(CRVAL2 * torch.pi / 180.0, device=device)\n",
    "\n",
    "# For TAN projection, the pole is at (0,90) in native coordinates\n",
    "sin_theta = torch.sin(theta_rad)\n",
    "cos_theta = torch.cos(theta_rad)\n",
    "sin_phi = torch.sin(phi_rad)\n",
    "cos_phi = torch.cos(phi_rad)\n",
    "sin_dec0 = torch.sin(dec0_rad)\n",
    "cos_dec0 = torch.cos(dec0_rad)\n",
    "\n",
    "# This is the exact calculation from wcslib's sphx2s function\n",
    "sin_dec = sin_theta * sin_dec0 + cos_theta * cos_dec0 * cos_phi\n",
    "dec_rad = torch.arcsin(sin_dec)\n",
    "\n",
    "# Calculate RA offset - exact formula from WCSLib\n",
    "y_term = cos_theta * sin_phi\n",
    "x_term = sin_theta * cos_dec0 - cos_theta * sin_dec0 * cos_phi\n",
    "ra_rad = ra0_rad + torch.atan2(-y_term, x_term)\n",
    "\n",
    "# Convert to degrees and normalize\n",
    "ra = torch.rad2deg(ra_rad) % 360.0\n",
    "dec = torch.rad2deg(dec_rad)\n"
   ],
   "id": "acb63ed3f25dd55",
   "outputs": [],
   "execution_count": 5
  },
  {
   "metadata": {},
   "cell_type": "markdown",
   "source": "Let's compare our results with astropy now.",
   "id": "faaefb30c184bdee"
  },
  {
   "metadata": {
    "ExecuteTime": {
     "end_time": "2025-03-03T17:38:31.943558Z",
     "start_time": "2025-03-03T17:38:31.939347Z"
    }
   },
   "cell_type": "code",
   "source": [
    "print(f\"Final celestial coordinates Torch:   RA={ra}, Dec={dec}\")\n",
    "print(f\"Final celestial coordinates Astropy: RA={ra_astropy}, Dec={dec_astropy}\")"
   ],
   "id": "a4c943e04b06eec1",
   "outputs": [
    {
     "name": "stdout",
     "output_type": "stream",
     "text": [
      "Final celestial coordinates Torch:   RA=35.24380952587278, Dec=59.09821841758037\n",
      "Final celestial coordinates Astropy: RA=35.24380952832857, Dec=59.09821844046949\n"
     ]
    }
   ],
   "execution_count": 6
  },
  {
   "metadata": {},
   "cell_type": "markdown",
   "source": [
    "They are extremely close! This is well below the arcsecond precision we need.\n",
    "\n",
    "Now let's compare the world_to_pixel results. We are really doing a round trip test, so the coordinates, after the inverse operations, should be at the starting value."
   ],
   "id": "9d893478cac3c32e"
  },
  {
   "metadata": {
    "ExecuteTime": {
     "end_time": "2025-03-03T17:40:36.952892Z",
     "start_time": "2025-03-03T17:40:36.940833Z"
    }
   },
   "cell_type": "code",
   "source": [
    "# Convert numpy arrays to torch tensors if needed\n",
    "if not isinstance(ra, torch.Tensor):\n",
    "    ra = torch.tensor(ra, device=device)\n",
    "    dec = torch.tensor(dec, device=device)\n",
    "\n",
    "# Helper functions for trigonometric calculations\n",
    "def atan2d(y, x):\n",
    "    \"\"\"PyTorch implementation of WCSLib's atan2d function\"\"\"\n",
    "    return torch.rad2deg(torch.atan2(y, x))\n",
    "\n",
    "def sincosd(angle_deg):\n",
    "    \"\"\"PyTorch implementation of WCSLib's sincosd function\"\"\"\n",
    "    angle_rad = torch.deg2rad(angle_deg)\n",
    "    return torch.sin(angle_rad), torch.cos(angle_rad)\n",
    "\n",
    "# Step 1: Convert from world to native spherical coordinates\n",
    "# Convert to radians\n",
    "ra_rad = torch.deg2rad(ra)\n",
    "dec_rad = torch.deg2rad(dec)\n",
    "ra0_rad = torch.tensor(CRVAL1 * torch.pi / 180.0, device=device)\n",
    "dec0_rad = torch.tensor(CRVAL2 * torch.pi / 180.0, device=device)\n",
    "\n",
    "# Calculate the difference in RA\n",
    "delta_ra = ra_rad - ra0_rad\n",
    "\n",
    "# Calculate sine and cosine values\n",
    "sin_dec = torch.sin(dec_rad)\n",
    "cos_dec = torch.cos(dec_rad)\n",
    "sin_dec0 = torch.sin(dec0_rad)\n",
    "cos_dec0 = torch.cos(dec0_rad)\n",
    "sin_delta_ra = torch.sin(delta_ra)\n",
    "cos_delta_ra = torch.cos(delta_ra)\n",
    "\n",
    "# Calculate the native spherical coordinates using the correct sign conventions\n",
    "# Calculate the numerator for phi (native longitude)\n",
    "y_phi = -cos_dec * sin_delta_ra  # Note the negative sign\n",
    "\n",
    "# Calculate the denominator for phi\n",
    "x_phi = sin_dec * cos_dec0 - cos_dec * sin_dec0 * cos_delta_ra\n",
    "\n",
    "# Calculate native longitude (phi)\n",
    "phi = atan2d(y_phi, x_phi)\n",
    "\n",
    "# Calculate native latitude (theta)\n",
    "theta = torch.rad2deg(torch.arcsin(sin_dec * sin_dec0 + cos_dec * cos_dec0 * cos_delta_ra))\n",
    "\n",
    "# Step 2: Apply the TAN projection (tans2x function from WCSLib)\n",
    "# Calculate sine and cosine of phi and theta\n",
    "sin_phi, cos_phi = sincosd(phi)\n",
    "sin_theta, cos_theta = sincosd(theta)\n",
    "\n",
    "# Check for singularity (when sin_theta is zero)\n",
    "eps = 1e-10\n",
    "if torch.any(torch.abs(sin_theta) < eps):\n",
    "    raise ValueError(\"Singularity in tans2x: theta close to 0 degrees\")\n",
    "\n",
    "# r0 is the radius scaling factor (typically 180.0/π)\n",
    "r0 = torch.tensor(180.0 / torch.pi, device=device)\n",
    "\n",
    "# Calculate the scaling factor r with correct sign\n",
    "r = r0 * cos_theta / sin_theta\n",
    "\n",
    "# Calculate intermediate world coordinates (x_scaled, y_scaled)\n",
    "# With the corrected signs based on your findings\n",
    "x_scaled = -r * sin_phi  # Note the negative sign\n",
    "y_scaled = r * cos_phi\n",
    "\n",
    "# Step 3: Apply the inverse of the CD matrix to get pixel offsets\n",
    "# First, construct the CD matrix\n",
    "CD_matrix = PC_matrix * CDELT\n",
    "CD_matrix = torch.tensor(CD_matrix, device=device)\n",
    "# Calculate the inverse of the CD matrix\n",
    "CD_inv = torch.linalg.inv(CD_matrix)\n",
    "\n",
    "# Handle batch processing for arrays\n",
    "if ra.dim() == 0:  # scalar inputs\n",
    "    standard_coords = torch.tensor([x_scaled.item(), y_scaled.item()], device=device, dtype=torch.float64)\n",
    "    pixel_offsets = torch.matmul(CD_inv, standard_coords)\n",
    "    u = pixel_offsets[0]\n",
    "    v = pixel_offsets[1]\n",
    "else:  # array inputs\n",
    "    # Reshape for batch processing if needed\n",
    "    if ra.dim() > 1:\n",
    "        original_shape = ra.shape\n",
    "        x_scaled_flat = x_scaled.reshape(-1)\n",
    "        y_scaled_flat = y_scaled.reshape(-1)\n",
    "    else:\n",
    "        x_scaled_flat = x_scaled\n",
    "        y_scaled_flat = y_scaled\n",
    "\n",
    "    # Stack for batch matrix multiplication\n",
    "    standard_coords = torch.stack([x_scaled_flat, y_scaled_flat], dim=1)  # Shape: [N, 2]\n",
    "\n",
    "    # Use batch matrix multiplication\n",
    "    pixel_offsets = torch.matmul(standard_coords, CD_inv.T)  # Shape: [N, 2]\n",
    "    u = pixel_offsets[:, 0]\n",
    "    v = pixel_offsets[:, 1]\n",
    "\n",
    "    # Reshape back to original dimensions if needed\n",
    "    if ra.dim() > 1:\n",
    "        u = u.reshape(original_shape)\n",
    "        v = v.reshape(original_shape)\n",
    "\n",
    "# Step 4: Add the reference pixel to get final pixel coordinates\n",
    "# Remember to add (CRPIX-1) to account for 1-based indexing in FITS/WCS\n",
    "x_pixel = u + (CRPIX1 - 1)\n",
    "y_pixel = v + (CRPIX2 - 1)\n",
    "\n",
    "\n",
    "print(f\"Final: x={x_pixel}, y={y_pixel}\")\n",
    "print(f\"Difference in x: {x_pixel - x_test}\")\n",
    "print(f\"Difference in y: {y_pixel - y_test}\")"
   ],
   "id": "358977445fd6550b",
   "outputs": [
    {
     "name": "stdout",
     "output_type": "stream",
     "text": [
      "Final: x=200.00000000004002, y=200.00000000003547\n",
      "Difference in x: 4.001776687800884e-11\n",
      "Difference in y: 3.54702933691442e-11\n"
     ]
    }
   ],
   "execution_count": 9
  },
  {
   "metadata": {},
   "cell_type": "markdown",
   "source": "So this is well below what we need :)",
   "id": "b96ec6d3156b5e42"
  },
  {
   "metadata": {},
   "cell_type": "code",
   "source": "",
   "id": "f05e82b28245978b",
   "outputs": [],
   "execution_count": null
  }
 ],
 "metadata": {
  "kernelspec": {
   "display_name": "Python 3",
   "language": "python",
   "name": "python3"
  },
  "language_info": {
   "codemirror_mode": {
    "name": "ipython",
    "version": 2
   },
   "file_extension": ".py",
   "mimetype": "text/x-python",
   "name": "python",
   "nbconvert_exporter": "python",
   "pygments_lexer": "ipython2",
   "version": "2.7.6"
  }
 },
 "nbformat": 4,
 "nbformat_minor": 5
}
