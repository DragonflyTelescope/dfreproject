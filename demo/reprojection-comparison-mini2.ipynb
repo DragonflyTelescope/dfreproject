{
 "cells": [
  {
   "cell_type": "markdown",
   "id": "cde33c78d5b09af7",
   "metadata": {},
   "source": [
    "# Comparison of interpolation methods\n",
    "We compare the results of our interpolation method versus reproject to verify the results."
   ]
  },
  {
   "cell_type": "code",
   "execution_count": 1,
   "id": "5461cba7b01e83eb",
   "metadata": {
    "ExecuteTime": {
     "end_time": "2025-07-16T18:31:59.324734Z",
     "start_time": "2025-07-16T18:31:56.737607Z"
    }
   },
   "outputs": [],
   "source": [
    "from astropy.io import fits\n",
    "from astropy.wcs import WCS\n",
    "import time\n",
    "from dfreproject import calculate_reprojection\n",
    "from reproject import reproject_interp\n",
    "import sys \n",
    "sys.path.append('../')\n",
    "from demo.create_test_data import create_test_fits\n",
    "from matplotlib import pyplot as plt\n",
    "import cmcrameri.cm as cmc\n",
    "import numpy as np"
   ]
  },
  {
   "cell_type": "markdown",
   "id": "3ecb95a5b98fa011",
   "metadata": {},
   "source": [
    "## Create data\n",
    "We are going to create a sample dataset of three Gaussian sources with a subpixel (0.2 pixel) shift with the relevant WCS information."
   ]
  },
  {
   "cell_type": "code",
   "execution_count": 2,
   "id": "5932daaa5e797923",
   "metadata": {
    "ExecuteTime": {
     "end_time": "2025-07-16T18:31:59.354366Z",
     "start_time": "2025-07-16T18:31:59.330656Z"
    }
   },
   "outputs": [
    {
     "name": "stdout",
     "output_type": "stream",
     "text": [
      "(4176, 6248)\n"
     ]
    }
   ],
   "source": [
    "source_file, target_file = create_test_fits()\n",
    "source_hdu = fits.open(source_file)[0]\n",
    "target_hdu = fits.open(target_file)[0]\n",
    "print(target_hdu.data.shape)"
   ]
  },
  {
   "cell_type": "markdown",
   "id": "70fb7cfebc2f28ee",
   "metadata": {},
   "source": [
    "## Run Reprojection\n",
    "We are now going to run reprojection using our `dfreproject` package and the standard `reproject` package for comparison. Let's compare the results using the three types of interpolation we have: 'nearest-neighbor', 'bilinear', and 'bicubic'. Since the images are very small, the timing advantage isn't seen in our implementation.\n",
    "\n",
    "### Nearest Neighbor"
   ]
  },
  {
   "cell_type": "code",
   "execution_count": 3,
   "id": "2fc87cba1530352c",
   "metadata": {
    "ExecuteTime": {
     "end_time": "2025-07-16T18:31:59.623519Z",
     "start_time": "2025-07-16T18:31:59.513537Z"
    }
   },
   "outputs": [
    {
     "name": "stdout",
     "output_type": "stream",
     "text": [
      "[MEMORY] calculate_reprojection_start: CPU RAM=1498.2MB\n",
      "[MEMORY] calculate_reprojection_after_normalize: CPU RAM=1498.2MB\n",
      "[MEMORY] init_start: CPU RAM=1498.2MB\n",
      "[MEMORY] after_prepare_images: CPU RAM=1702.4MB\n",
      "[MEMORY] after_wcs_params: CPU RAM=1702.5MB\n",
      "[MEMORY] after_target_grid: CPU RAM=1703.4MB\n",
      "[MEMORY] calculate_reprojection_after_reproject_init: CPU RAM=1703.4MB\n",
      "[MEMORY] interpolate_start: CPU RAM=1703.4MB\n",
      "[MEMORY] calculate_sourceCoords_start: CPU RAM=1703.4MB\n",
      "[MEMORY] calculate_sourceCoords_batch_0_start: CPU RAM=2102.0MB\n",
      "[MEMORY] calculate_skyCoords_start: CPU RAM=2102.2MB\n",
      "[MEMORY] calculate_skyCoords_after_transform: CPU RAM=2503.4MB\n",
      "[MEMORY] calculate_skyCoords_end: CPU RAM=2507.4MB\n",
      "[MEMORY] calculate_sourceCoords_batch_0_end: CPU RAM=2136.1MB\n",
      "[MEMORY] calculate_sourceCoords_end: CPU RAM=2136.1MB\n",
      "[MEMORY] interpolate_after_coords: CPU RAM=2136.1MB\n",
      "[MEMORY] interpolate_before_grid_sample: CPU RAM=2733.3MB\n",
      "[MEMORY] interpolate_after_grid_sample: CPU RAM=2534.9MB\n",
      "[MEMORY] interpolate_after_footprint: CPU RAM=2360.7MB\n",
      "[MEMORY] interpolate_before_jacobian: CPU RAM=2360.7MB\n",
      "[MEMORY] interpolate_after_jacobian: CPU RAM=2360.7MB\n",
      "[MEMORY] interpolate_end: CPU RAM=1962.6MB\n",
      "[MEMORY] calculate_reprojection_before_cleanup: CPU RAM=1863.1MB\n",
      "[MEMORY] calculate_reprojection_end: CPU RAM=1863.1MB\n",
      "total time: 14.717045545578003\n"
     ]
    }
   ],
   "source": [
    "start = time.time()\n",
    "reprojected_source_torch = calculate_reprojection((source_hdu.data, source_hdu.header), WCS(target_hdu.header), shape_out=target_hdu.data.shape, order=\"nearest\")\n",
    "print(f\"total time: {time.time()-start}\")"
   ]
  },
  {
   "cell_type": "code",
   "execution_count": 4,
   "id": "97eb5b58b87dc5dd",
   "metadata": {
    "ExecuteTime": {
     "end_time": "2025-07-16T18:31:59.668443Z",
     "start_time": "2025-07-16T18:31:59.640519Z"
    }
   },
   "outputs": [
    {
     "ename": "KeyboardInterrupt",
     "evalue": "",
     "output_type": "error",
     "traceback": [
      "\u001b[0;31m---------------------------------------------------------------------------\u001b[0m",
      "\u001b[0;31mKeyboardInterrupt\u001b[0m                         Traceback (most recent call last)",
      "Cell \u001b[0;32mIn[4], line 2\u001b[0m\n\u001b[1;32m      1\u001b[0m start \u001b[38;5;241m=\u001b[39m time\u001b[38;5;241m.\u001b[39mtime()\n\u001b[0;32m----> 2\u001b[0m reprojected_source_reproj \u001b[38;5;241m=\u001b[39m reproject_interp(source_hdu, target_hdu\u001b[38;5;241m.\u001b[39mheader,order\u001b[38;5;241m=\u001b[39m\u001b[38;5;124m'\u001b[39m\u001b[38;5;124mnearest-neighbor\u001b[39m\u001b[38;5;124m'\u001b[39m)[\u001b[38;5;241m0\u001b[39m]\n\u001b[1;32m      3\u001b[0m \u001b[38;5;66;03m#reprojected_source_reproj = reproject_interp(target_hdu, source_hdu.header,order='bicubic')[0]\u001b[39;00m\n\u001b[1;32m      4\u001b[0m \u001b[38;5;28mprint\u001b[39m(\u001b[38;5;124mf\u001b[39m\u001b[38;5;124m\"\u001b[39m\u001b[38;5;124mtotal time: \u001b[39m\u001b[38;5;132;01m{\u001b[39;00mtime\u001b[38;5;241m.\u001b[39mtime()\u001b[38;5;241m-\u001b[39mstart\u001b[38;5;132;01m}\u001b[39;00m\u001b[38;5;124m\"\u001b[39m)\n",
      "File \u001b[0;32m~/anaconda3/lib/python3.13/site-packages/reproject/interpolation/high_level.py:146\u001b[0m, in \u001b[0;36mreproject_interp\u001b[0;34m(input_data, output_projection, shape_out, hdu_in, order, roundtrip_coords, output_array, output_footprint, return_footprint, block_size, parallel, return_type, dask_method)\u001b[0m\n\u001b[1;32m    142\u001b[0m     order \u001b[38;5;241m=\u001b[39m ORDER[order]\n\u001b[1;32m    144\u001b[0m \u001b[38;5;66;03m# TODO: add tests that actually ensure that order and roundtrip_coords work\u001b[39;00m\n\u001b[0;32m--> 146\u001b[0m \u001b[38;5;28;01mreturn\u001b[39;00m _reproject_dispatcher(\n\u001b[1;32m    147\u001b[0m     _reproject_full,\n\u001b[1;32m    148\u001b[0m     array_in\u001b[38;5;241m=\u001b[39marray_in,\n\u001b[1;32m    149\u001b[0m     wcs_in\u001b[38;5;241m=\u001b[39mwcs_in,\n\u001b[1;32m    150\u001b[0m     wcs_out\u001b[38;5;241m=\u001b[39mwcs_out,\n\u001b[1;32m    151\u001b[0m     shape_out\u001b[38;5;241m=\u001b[39mshape_out,\n\u001b[1;32m    152\u001b[0m     array_out\u001b[38;5;241m=\u001b[39moutput_array,\n\u001b[1;32m    153\u001b[0m     parallel\u001b[38;5;241m=\u001b[39mparallel,\n\u001b[1;32m    154\u001b[0m     block_size\u001b[38;5;241m=\u001b[39mblock_size,\n\u001b[1;32m    155\u001b[0m     return_footprint\u001b[38;5;241m=\u001b[39mreturn_footprint,\n\u001b[1;32m    156\u001b[0m     output_footprint\u001b[38;5;241m=\u001b[39moutput_footprint,\n\u001b[1;32m    157\u001b[0m     reproject_func_kwargs\u001b[38;5;241m=\u001b[39m\u001b[38;5;28mdict\u001b[39m(\n\u001b[1;32m    158\u001b[0m         order\u001b[38;5;241m=\u001b[39morder,\n\u001b[1;32m    159\u001b[0m         roundtrip_coords\u001b[38;5;241m=\u001b[39mroundtrip_coords,\n\u001b[1;32m    160\u001b[0m     ),\n\u001b[1;32m    161\u001b[0m     return_type\u001b[38;5;241m=\u001b[39mreturn_type,\n\u001b[1;32m    162\u001b[0m     dask_method\u001b[38;5;241m=\u001b[39mdask_method,\n\u001b[1;32m    163\u001b[0m )\n",
      "File \u001b[0;32m~/anaconda3/lib/python3.13/site-packages/reproject/common.py:189\u001b[0m, in \u001b[0;36m_reproject_dispatcher\u001b[0;34m(reproject_func, array_in, wcs_in, shape_out, wcs_out, block_size, array_out, return_footprint, output_footprint, parallel, reproject_func_kwargs, return_type, dask_method)\u001b[0m\n\u001b[1;32m    186\u001b[0m logger\u001b[38;5;241m.\u001b[39mdebug(\u001b[38;5;124mf\u001b[39m\u001b[38;5;124m\"\u001b[39m\u001b[38;5;124mCalling \u001b[39m\u001b[38;5;132;01m{\u001b[39;00mreproject_func\u001b[38;5;241m.\u001b[39m\u001b[38;5;18m__name__\u001b[39m\u001b[38;5;132;01m}\u001b[39;00m\u001b[38;5;124m in non-dask mode\u001b[39m\u001b[38;5;124m\"\u001b[39m)\n\u001b[1;32m    188\u001b[0m \u001b[38;5;28;01mtry\u001b[39;00m:\n\u001b[0;32m--> 189\u001b[0m     \u001b[38;5;28;01mreturn\u001b[39;00m reproject_func(\n\u001b[1;32m    190\u001b[0m         array_in,\n\u001b[1;32m    191\u001b[0m         wcs_in,\n\u001b[1;32m    192\u001b[0m         wcs_out,\n\u001b[1;32m    193\u001b[0m         shape_out\u001b[38;5;241m=\u001b[39mshape_out,\n\u001b[1;32m    194\u001b[0m         array_out\u001b[38;5;241m=\u001b[39marray_out,\n\u001b[1;32m    195\u001b[0m         return_footprint\u001b[38;5;241m=\u001b[39mreturn_footprint,\n\u001b[1;32m    196\u001b[0m         output_footprint\u001b[38;5;241m=\u001b[39moutput_footprint,\n\u001b[1;32m    197\u001b[0m         \u001b[38;5;241m*\u001b[39m\u001b[38;5;241m*\u001b[39mreproject_func_kwargs,\n\u001b[1;32m    198\u001b[0m     )\n\u001b[1;32m    199\u001b[0m \u001b[38;5;28;01mfinally\u001b[39;00m:\n\u001b[1;32m    200\u001b[0m     \u001b[38;5;66;03m# Clean up reference to numpy memmap\u001b[39;00m\n\u001b[1;32m    201\u001b[0m     array_in \u001b[38;5;241m=\u001b[39m \u001b[38;5;28;01mNone\u001b[39;00m\n",
      "File \u001b[0;32m~/anaconda3/lib/python3.13/site-packages/reproject/interpolation/core.py:112\u001b[0m, in \u001b[0;36m_reproject_full\u001b[0;34m(array, wcs_in, wcs_out, shape_out, order, array_out, return_footprint, roundtrip_coords, output_footprint)\u001b[0m\n\u001b[1;32m    110\u001b[0m \u001b[38;5;66;03m# For each pixel in the output array, get the pixel value in the input WCS\u001b[39;00m\n\u001b[1;32m    111\u001b[0m \u001b[38;5;28;01mif\u001b[39;00m roundtrip_coords:\n\u001b[0;32m--> 112\u001b[0m     pixel_in \u001b[38;5;241m=\u001b[39m pixel_to_pixel_with_roundtrip(wcs_out, wcs_in, \u001b[38;5;241m*\u001b[39mpixel_out[::\u001b[38;5;241m-\u001b[39m\u001b[38;5;241m1\u001b[39m])[::\u001b[38;5;241m-\u001b[39m\u001b[38;5;241m1\u001b[39m]\n\u001b[1;32m    113\u001b[0m \u001b[38;5;28;01melse\u001b[39;00m:\n\u001b[1;32m    114\u001b[0m     pixel_in \u001b[38;5;241m=\u001b[39m pixel_to_pixel(wcs_out, wcs_in, \u001b[38;5;241m*\u001b[39mpixel_out[::\u001b[38;5;241m-\u001b[39m\u001b[38;5;241m1\u001b[39m])[::\u001b[38;5;241m-\u001b[39m\u001b[38;5;241m1\u001b[39m]\n",
      "File \u001b[0;32m~/anaconda3/lib/python3.13/site-packages/reproject/wcs_utils.py:42\u001b[0m, in \u001b[0;36mpixel_to_pixel_with_roundtrip\u001b[0;34m(wcs1, wcs2, *inputs)\u001b[0m\n\u001b[1;32m     41\u001b[0m \u001b[38;5;28;01mdef\u001b[39;00m\u001b[38;5;250m \u001b[39m\u001b[38;5;21mpixel_to_pixel_with_roundtrip\u001b[39m(wcs1, wcs2, \u001b[38;5;241m*\u001b[39minputs):\n\u001b[0;32m---> 42\u001b[0m     outputs \u001b[38;5;241m=\u001b[39m pixel_to_pixel(wcs1, wcs2, \u001b[38;5;241m*\u001b[39minputs)\n\u001b[1;32m     44\u001b[0m     \u001b[38;5;66;03m# Now convert back to check that coordinates round-trip, if not then set to NaN\u001b[39;00m\n\u001b[1;32m     45\u001b[0m     inputs_check \u001b[38;5;241m=\u001b[39m pixel_to_pixel(wcs2, wcs1, \u001b[38;5;241m*\u001b[39moutputs)\n",
      "File \u001b[0;32m~/anaconda3/lib/python3.13/site-packages/astropy/wcs/utils.py:937\u001b[0m, in \u001b[0;36mpixel_to_pixel\u001b[0;34m(wcs_in, wcs_out, *inputs)\u001b[0m\n\u001b[1;32m    934\u001b[0m \u001b[38;5;28;01mif\u001b[39;00m \u001b[38;5;129;01mnot\u001b[39;00m \u001b[38;5;28misinstance\u001b[39m(world_outputs, (\u001b[38;5;28mtuple\u001b[39m, \u001b[38;5;28mlist\u001b[39m)):\n\u001b[1;32m    935\u001b[0m     world_outputs \u001b[38;5;241m=\u001b[39m (world_outputs,)\n\u001b[0;32m--> 937\u001b[0m pixel_outputs \u001b[38;5;241m=\u001b[39m wcs_out\u001b[38;5;241m.\u001b[39mworld_to_pixel(\u001b[38;5;241m*\u001b[39mworld_outputs)\n\u001b[1;32m    939\u001b[0m \u001b[38;5;28;01mif\u001b[39;00m wcs_out\u001b[38;5;241m.\u001b[39mpixel_n_dim \u001b[38;5;241m==\u001b[39m \u001b[38;5;241m1\u001b[39m:\n\u001b[1;32m    940\u001b[0m     pixel_outputs \u001b[38;5;241m=\u001b[39m (pixel_outputs,)\n",
      "File \u001b[0;32m~/anaconda3/lib/python3.13/site-packages/astropy/wcs/wcsapi/high_level_api.py:357\u001b[0m, in \u001b[0;36mHighLevelWCSMixin.world_to_pixel\u001b[0;34m(self, *world_objects)\u001b[0m\n\u001b[1;32m    352\u001b[0m world_values \u001b[38;5;241m=\u001b[39m high_level_objects_to_values(\n\u001b[1;32m    353\u001b[0m     \u001b[38;5;241m*\u001b[39mworld_objects, low_level_wcs\u001b[38;5;241m=\u001b[39m\u001b[38;5;28mself\u001b[39m\u001b[38;5;241m.\u001b[39mlow_level_wcs\n\u001b[1;32m    354\u001b[0m )\n\u001b[1;32m    356\u001b[0m \u001b[38;5;66;03m# Finally we convert to pixel coordinates\u001b[39;00m\n\u001b[0;32m--> 357\u001b[0m pixel_values \u001b[38;5;241m=\u001b[39m \u001b[38;5;28mself\u001b[39m\u001b[38;5;241m.\u001b[39mlow_level_wcs\u001b[38;5;241m.\u001b[39mworld_to_pixel_values(\u001b[38;5;241m*\u001b[39mworld_values)\n\u001b[1;32m    359\u001b[0m \u001b[38;5;28;01mreturn\u001b[39;00m pixel_values\n",
      "File \u001b[0;32m~/anaconda3/lib/python3.13/site-packages/astropy/wcs/wcsapi/fitswcs.py:364\u001b[0m, in \u001b[0;36mFITSWCSAPIMixin.world_to_pixel_values\u001b[0;34m(self, *world_arrays)\u001b[0m\n\u001b[1;32m    361\u001b[0m \u001b[38;5;28;01mfrom\u001b[39;00m\u001b[38;5;250m \u001b[39m\u001b[38;5;21;01mastropy\u001b[39;00m\u001b[38;5;21;01m.\u001b[39;00m\u001b[38;5;21;01mwcs\u001b[39;00m\u001b[38;5;21;01m.\u001b[39;00m\u001b[38;5;21;01mwcs\u001b[39;00m\u001b[38;5;250m \u001b[39m\u001b[38;5;28;01mimport\u001b[39;00m NoConvergence\n\u001b[1;32m    363\u001b[0m \u001b[38;5;28;01mtry\u001b[39;00m:\n\u001b[0;32m--> 364\u001b[0m     pixel \u001b[38;5;241m=\u001b[39m \u001b[38;5;28mself\u001b[39m\u001b[38;5;241m.\u001b[39mall_world2pix(\u001b[38;5;241m*\u001b[39mworld_arrays, \u001b[38;5;241m0\u001b[39m)\n\u001b[1;32m    365\u001b[0m \u001b[38;5;28;01mexcept\u001b[39;00m NoConvergence \u001b[38;5;28;01mas\u001b[39;00m e:\n\u001b[1;32m    366\u001b[0m     warnings\u001b[38;5;241m.\u001b[39mwarn(\u001b[38;5;28mstr\u001b[39m(e))\n",
      "File \u001b[0;32m~/anaconda3/lib/python3.13/site-packages/astropy/wcs/wcs.py:2110\u001b[0m, in \u001b[0;36mWCS.all_world2pix\u001b[0;34m(self, tolerance, maxiter, adaptive, detect_divergence, quiet, *args, **kwargs)\u001b[0m\n\u001b[1;32m   2107\u001b[0m \u001b[38;5;28;01mif\u001b[39;00m \u001b[38;5;28mself\u001b[39m\u001b[38;5;241m.\u001b[39mwcs \u001b[38;5;129;01mis\u001b[39;00m \u001b[38;5;28;01mNone\u001b[39;00m:\n\u001b[1;32m   2108\u001b[0m     \u001b[38;5;28;01mraise\u001b[39;00m \u001b[38;5;167;01mValueError\u001b[39;00m(\u001b[38;5;124m\"\u001b[39m\u001b[38;5;124mNo basic WCS settings were created.\u001b[39m\u001b[38;5;124m\"\u001b[39m)\n\u001b[0;32m-> 2110\u001b[0m \u001b[38;5;28;01mreturn\u001b[39;00m \u001b[38;5;28mself\u001b[39m\u001b[38;5;241m.\u001b[39m_array_converter(\n\u001b[1;32m   2111\u001b[0m     \u001b[38;5;28;01mlambda\u001b[39;00m \u001b[38;5;241m*\u001b[39margs, \u001b[38;5;241m*\u001b[39m\u001b[38;5;241m*\u001b[39mkwargs: \u001b[38;5;28mself\u001b[39m\u001b[38;5;241m.\u001b[39m_all_world2pix(\n\u001b[1;32m   2112\u001b[0m         \u001b[38;5;241m*\u001b[39margs,\n\u001b[1;32m   2113\u001b[0m         tolerance\u001b[38;5;241m=\u001b[39mtolerance,\n\u001b[1;32m   2114\u001b[0m         maxiter\u001b[38;5;241m=\u001b[39mmaxiter,\n\u001b[1;32m   2115\u001b[0m         adaptive\u001b[38;5;241m=\u001b[39madaptive,\n\u001b[1;32m   2116\u001b[0m         detect_divergence\u001b[38;5;241m=\u001b[39mdetect_divergence,\n\u001b[1;32m   2117\u001b[0m         quiet\u001b[38;5;241m=\u001b[39mquiet,\n\u001b[1;32m   2118\u001b[0m     ),\n\u001b[1;32m   2119\u001b[0m     \u001b[38;5;124m\"\u001b[39m\u001b[38;5;124minput\u001b[39m\u001b[38;5;124m\"\u001b[39m,\n\u001b[1;32m   2120\u001b[0m     \u001b[38;5;241m*\u001b[39margs,\n\u001b[1;32m   2121\u001b[0m     \u001b[38;5;241m*\u001b[39m\u001b[38;5;241m*\u001b[39mkwargs,\n\u001b[1;32m   2122\u001b[0m )\n",
      "File \u001b[0;32m~/anaconda3/lib/python3.13/site-packages/astropy/wcs/wcs.py:1546\u001b[0m, in \u001b[0;36mWCS._array_converter\u001b[0;34m(self, func, sky, ra_dec_order, *args)\u001b[0m\n\u001b[1;32m   1540\u001b[0m     \u001b[38;5;28;01mexcept\u001b[39;00m \u001b[38;5;167;01mException\u001b[39;00m:\n\u001b[1;32m   1541\u001b[0m         \u001b[38;5;28;01mraise\u001b[39;00m \u001b[38;5;167;01mTypeError\u001b[39;00m(\n\u001b[1;32m   1542\u001b[0m             \u001b[38;5;124m\"\u001b[39m\u001b[38;5;124mWhen providing more than two arguments, they must be \u001b[39m\u001b[38;5;124m\"\u001b[39m\n\u001b[1;32m   1543\u001b[0m             \u001b[38;5;124m\"\u001b[39m\u001b[38;5;124ma 1-D array for each axis, followed by an origin.\u001b[39m\u001b[38;5;124m\"\u001b[39m\n\u001b[1;32m   1544\u001b[0m         )\n\u001b[0;32m-> 1546\u001b[0m     \u001b[38;5;28;01mreturn\u001b[39;00m _return_list_of_arrays(axes, origin)\n\u001b[1;32m   1548\u001b[0m \u001b[38;5;28;01mraise\u001b[39;00m \u001b[38;5;167;01mTypeError\u001b[39;00m(\n\u001b[1;32m   1549\u001b[0m     \u001b[38;5;124mf\u001b[39m\u001b[38;5;124m\"\u001b[39m\u001b[38;5;124mWCS projection has \u001b[39m\u001b[38;5;132;01m{\u001b[39;00m\u001b[38;5;28mself\u001b[39m\u001b[38;5;241m.\u001b[39mnaxis\u001b[38;5;132;01m}\u001b[39;00m\u001b[38;5;124m dimensions, so expected 2 (an Nx\u001b[39m\u001b[38;5;132;01m{\u001b[39;00m\u001b[38;5;28mself\u001b[39m\u001b[38;5;241m.\u001b[39mnaxis\u001b[38;5;132;01m}\u001b[39;00m\u001b[38;5;124m array \u001b[39m\u001b[38;5;124m\"\u001b[39m\n\u001b[1;32m   1550\u001b[0m     \u001b[38;5;124mf\u001b[39m\u001b[38;5;124m\"\u001b[39m\u001b[38;5;124mand the origin argument) or \u001b[39m\u001b[38;5;132;01m{\u001b[39;00m\u001b[38;5;28mself\u001b[39m\u001b[38;5;241m.\u001b[39mnaxis\u001b[38;5;250m \u001b[39m\u001b[38;5;241m+\u001b[39m\u001b[38;5;250m \u001b[39m\u001b[38;5;241m1\u001b[39m\u001b[38;5;132;01m}\u001b[39;00m\u001b[38;5;124m arguments (the position in each \u001b[39m\u001b[38;5;124m\"\u001b[39m\n\u001b[1;32m   1551\u001b[0m     \u001b[38;5;124mf\u001b[39m\u001b[38;5;124m\"\u001b[39m\u001b[38;5;124mdimension, and the origin argument). Instead, \u001b[39m\u001b[38;5;132;01m{\u001b[39;00m\u001b[38;5;28mlen\u001b[39m(args)\u001b[38;5;132;01m}\u001b[39;00m\u001b[38;5;124m arguments were \u001b[39m\u001b[38;5;124m\"\u001b[39m\n\u001b[1;32m   1552\u001b[0m     \u001b[38;5;124m\"\u001b[39m\u001b[38;5;124mgiven.\u001b[39m\u001b[38;5;124m\"\u001b[39m\n\u001b[1;32m   1553\u001b[0m )\n",
      "File \u001b[0;32m~/anaconda3/lib/python3.13/site-packages/astropy/wcs/wcs.py:1496\u001b[0m, in \u001b[0;36mWCS._array_converter.<locals>._return_list_of_arrays\u001b[0;34m(axes, origin)\u001b[0m\n\u001b[1;32m   1494\u001b[0m \u001b[38;5;28;01mif\u001b[39;00m ra_dec_order \u001b[38;5;129;01mand\u001b[39;00m sky \u001b[38;5;241m==\u001b[39m \u001b[38;5;124m\"\u001b[39m\u001b[38;5;124minput\u001b[39m\u001b[38;5;124m\"\u001b[39m:\n\u001b[1;32m   1495\u001b[0m     xy \u001b[38;5;241m=\u001b[39m \u001b[38;5;28mself\u001b[39m\u001b[38;5;241m.\u001b[39m_denormalize_sky(xy)\n\u001b[0;32m-> 1496\u001b[0m output \u001b[38;5;241m=\u001b[39m func(xy, origin)\n\u001b[1;32m   1497\u001b[0m \u001b[38;5;28;01mif\u001b[39;00m ra_dec_order \u001b[38;5;129;01mand\u001b[39;00m sky \u001b[38;5;241m==\u001b[39m \u001b[38;5;124m\"\u001b[39m\u001b[38;5;124moutput\u001b[39m\u001b[38;5;124m\"\u001b[39m:\n\u001b[1;32m   1498\u001b[0m     output \u001b[38;5;241m=\u001b[39m \u001b[38;5;28mself\u001b[39m\u001b[38;5;241m.\u001b[39m_normalize_sky(output)\n",
      "File \u001b[0;32m~/anaconda3/lib/python3.13/site-packages/astropy/wcs/wcs.py:2111\u001b[0m, in \u001b[0;36mWCS.all_world2pix.<locals>.<lambda>\u001b[0;34m(*args, **kwargs)\u001b[0m\n\u001b[1;32m   2107\u001b[0m \u001b[38;5;28;01mif\u001b[39;00m \u001b[38;5;28mself\u001b[39m\u001b[38;5;241m.\u001b[39mwcs \u001b[38;5;129;01mis\u001b[39;00m \u001b[38;5;28;01mNone\u001b[39;00m:\n\u001b[1;32m   2108\u001b[0m     \u001b[38;5;28;01mraise\u001b[39;00m \u001b[38;5;167;01mValueError\u001b[39;00m(\u001b[38;5;124m\"\u001b[39m\u001b[38;5;124mNo basic WCS settings were created.\u001b[39m\u001b[38;5;124m\"\u001b[39m)\n\u001b[1;32m   2110\u001b[0m \u001b[38;5;28;01mreturn\u001b[39;00m \u001b[38;5;28mself\u001b[39m\u001b[38;5;241m.\u001b[39m_array_converter(\n\u001b[0;32m-> 2111\u001b[0m     \u001b[38;5;28;01mlambda\u001b[39;00m \u001b[38;5;241m*\u001b[39margs, \u001b[38;5;241m*\u001b[39m\u001b[38;5;241m*\u001b[39mkwargs: \u001b[38;5;28mself\u001b[39m\u001b[38;5;241m.\u001b[39m_all_world2pix(\n\u001b[1;32m   2112\u001b[0m         \u001b[38;5;241m*\u001b[39margs,\n\u001b[1;32m   2113\u001b[0m         tolerance\u001b[38;5;241m=\u001b[39mtolerance,\n\u001b[1;32m   2114\u001b[0m         maxiter\u001b[38;5;241m=\u001b[39mmaxiter,\n\u001b[1;32m   2115\u001b[0m         adaptive\u001b[38;5;241m=\u001b[39madaptive,\n\u001b[1;32m   2116\u001b[0m         detect_divergence\u001b[38;5;241m=\u001b[39mdetect_divergence,\n\u001b[1;32m   2117\u001b[0m         quiet\u001b[38;5;241m=\u001b[39mquiet,\n\u001b[1;32m   2118\u001b[0m     ),\n\u001b[1;32m   2119\u001b[0m     \u001b[38;5;124m\"\u001b[39m\u001b[38;5;124minput\u001b[39m\u001b[38;5;124m\"\u001b[39m,\n\u001b[1;32m   2120\u001b[0m     \u001b[38;5;241m*\u001b[39margs,\n\u001b[1;32m   2121\u001b[0m     \u001b[38;5;241m*\u001b[39m\u001b[38;5;241m*\u001b[39mkwargs,\n\u001b[1;32m   2122\u001b[0m )\n",
      "File \u001b[0;32m~/anaconda3/lib/python3.13/site-packages/astropy/wcs/wcs.py:1902\u001b[0m, in \u001b[0;36mWCS._all_world2pix\u001b[0;34m(self, world, origin, tolerance, maxiter, adaptive, detect_divergence, quiet)\u001b[0m\n\u001b[1;32m   1692\u001b[0m \u001b[38;5;28;01mdef\u001b[39;00m\u001b[38;5;250m \u001b[39m\u001b[38;5;21m_all_world2pix\u001b[39m(\n\u001b[1;32m   1693\u001b[0m     \u001b[38;5;28mself\u001b[39m, world, origin, tolerance, maxiter, adaptive, detect_divergence, quiet\n\u001b[1;32m   1694\u001b[0m ):\n\u001b[0;32m   (...)\u001b[0m\n\u001b[1;32m   1900\u001b[0m \n\u001b[1;32m   1901\u001b[0m     \u001b[38;5;66;03m# initial approximation (linear WCS based only)\u001b[39;00m\n\u001b[0;32m-> 1902\u001b[0m     pix0 \u001b[38;5;241m=\u001b[39m \u001b[38;5;28mself\u001b[39m\u001b[38;5;241m.\u001b[39mwcs_world2pix(world, origin)\n\u001b[1;32m   1904\u001b[0m     \u001b[38;5;66;03m# Check that an iterative solution is required at all\u001b[39;00m\n\u001b[1;32m   1905\u001b[0m     \u001b[38;5;66;03m# (when any of the non-CD-matrix-based corrections are\u001b[39;00m\n\u001b[1;32m   1906\u001b[0m     \u001b[38;5;66;03m# present). If not required return the initial\u001b[39;00m\n\u001b[1;32m   1907\u001b[0m     \u001b[38;5;66;03m# approximation (pix0).\u001b[39;00m\n\u001b[1;32m   1908\u001b[0m     \u001b[38;5;28;01mif\u001b[39;00m \u001b[38;5;129;01mnot\u001b[39;00m \u001b[38;5;28mself\u001b[39m\u001b[38;5;241m.\u001b[39mhas_distortion:\n\u001b[1;32m   1909\u001b[0m         \u001b[38;5;66;03m# No non-WCS corrections detected so\u001b[39;00m\n\u001b[1;32m   1910\u001b[0m         \u001b[38;5;66;03m# simply return initial approximation:\u001b[39;00m\n",
      "File \u001b[0;32m~/anaconda3/lib/python3.13/site-packages/astropy/wcs/wcs.py:2451\u001b[0m, in \u001b[0;36mWCS.wcs_world2pix\u001b[0;34m(self, *args, **kwargs)\u001b[0m\n\u001b[1;32m   2449\u001b[0m \u001b[38;5;28;01mif\u001b[39;00m \u001b[38;5;28mself\u001b[39m\u001b[38;5;241m.\u001b[39mwcs \u001b[38;5;129;01mis\u001b[39;00m \u001b[38;5;28;01mNone\u001b[39;00m:\n\u001b[1;32m   2450\u001b[0m     \u001b[38;5;28;01mraise\u001b[39;00m \u001b[38;5;167;01mValueError\u001b[39;00m(\u001b[38;5;124m\"\u001b[39m\u001b[38;5;124mNo basic WCS settings were created.\u001b[39m\u001b[38;5;124m\"\u001b[39m)\n\u001b[0;32m-> 2451\u001b[0m \u001b[38;5;28;01mreturn\u001b[39;00m \u001b[38;5;28mself\u001b[39m\u001b[38;5;241m.\u001b[39m_array_converter(\n\u001b[1;32m   2452\u001b[0m     \u001b[38;5;28;01mlambda\u001b[39;00m xy, o: \u001b[38;5;28mself\u001b[39m\u001b[38;5;241m.\u001b[39mwcs\u001b[38;5;241m.\u001b[39ms2p(xy, o)[\u001b[38;5;124m\"\u001b[39m\u001b[38;5;124mpixcrd\u001b[39m\u001b[38;5;124m\"\u001b[39m], \u001b[38;5;124m\"\u001b[39m\u001b[38;5;124minput\u001b[39m\u001b[38;5;124m\"\u001b[39m, \u001b[38;5;241m*\u001b[39margs, \u001b[38;5;241m*\u001b[39m\u001b[38;5;241m*\u001b[39mkwargs\n\u001b[1;32m   2453\u001b[0m )\n",
      "File \u001b[0;32m~/anaconda3/lib/python3.13/site-packages/astropy/wcs/wcs.py:1532\u001b[0m, in \u001b[0;36mWCS._array_converter\u001b[0;34m(self, func, sky, ra_dec_order, *args)\u001b[0m\n\u001b[1;32m   1530\u001b[0m     \u001b[38;5;28;01mif\u001b[39;00m xy\u001b[38;5;241m.\u001b[39mshape \u001b[38;5;241m==\u001b[39m () \u001b[38;5;129;01mor\u001b[39;00m \u001b[38;5;28mlen\u001b[39m(xy\u001b[38;5;241m.\u001b[39mshape) \u001b[38;5;241m==\u001b[39m \u001b[38;5;241m1\u001b[39m:\n\u001b[1;32m   1531\u001b[0m         \u001b[38;5;28;01mreturn\u001b[39;00m _return_list_of_arrays([xy], origin)\n\u001b[0;32m-> 1532\u001b[0m     \u001b[38;5;28;01mreturn\u001b[39;00m _return_single_array(xy, origin)\n\u001b[1;32m   1534\u001b[0m \u001b[38;5;28;01melif\u001b[39;00m \u001b[38;5;28mlen\u001b[39m(args) \u001b[38;5;241m==\u001b[39m \u001b[38;5;28mself\u001b[39m\u001b[38;5;241m.\u001b[39mnaxis \u001b[38;5;241m+\u001b[39m \u001b[38;5;241m1\u001b[39m:\n\u001b[1;32m   1535\u001b[0m     axes \u001b[38;5;241m=\u001b[39m args[:\u001b[38;5;241m-\u001b[39m\u001b[38;5;241m1\u001b[39m]\n",
      "File \u001b[0;32m~/anaconda3/lib/python3.13/site-packages/astropy/wcs/wcs.py:1515\u001b[0m, in \u001b[0;36mWCS._array_converter.<locals>._return_single_array\u001b[0;34m(xy, origin)\u001b[0m\n\u001b[1;32m   1513\u001b[0m \u001b[38;5;28;01mif\u001b[39;00m ra_dec_order \u001b[38;5;129;01mand\u001b[39;00m sky \u001b[38;5;241m==\u001b[39m \u001b[38;5;124m\"\u001b[39m\u001b[38;5;124minput\u001b[39m\u001b[38;5;124m\"\u001b[39m:\n\u001b[1;32m   1514\u001b[0m     xy \u001b[38;5;241m=\u001b[39m \u001b[38;5;28mself\u001b[39m\u001b[38;5;241m.\u001b[39m_denormalize_sky(xy)\n\u001b[0;32m-> 1515\u001b[0m result \u001b[38;5;241m=\u001b[39m func(xy, origin)\n\u001b[1;32m   1516\u001b[0m \u001b[38;5;28;01mif\u001b[39;00m ra_dec_order \u001b[38;5;129;01mand\u001b[39;00m sky \u001b[38;5;241m==\u001b[39m \u001b[38;5;124m\"\u001b[39m\u001b[38;5;124moutput\u001b[39m\u001b[38;5;124m\"\u001b[39m:\n\u001b[1;32m   1517\u001b[0m     result \u001b[38;5;241m=\u001b[39m \u001b[38;5;28mself\u001b[39m\u001b[38;5;241m.\u001b[39m_normalize_sky(result)\n",
      "File \u001b[0;32m~/anaconda3/lib/python3.13/site-packages/astropy/wcs/wcs.py:2452\u001b[0m, in \u001b[0;36mWCS.wcs_world2pix.<locals>.<lambda>\u001b[0;34m(xy, o)\u001b[0m\n\u001b[1;32m   2449\u001b[0m \u001b[38;5;28;01mif\u001b[39;00m \u001b[38;5;28mself\u001b[39m\u001b[38;5;241m.\u001b[39mwcs \u001b[38;5;129;01mis\u001b[39;00m \u001b[38;5;28;01mNone\u001b[39;00m:\n\u001b[1;32m   2450\u001b[0m     \u001b[38;5;28;01mraise\u001b[39;00m \u001b[38;5;167;01mValueError\u001b[39;00m(\u001b[38;5;124m\"\u001b[39m\u001b[38;5;124mNo basic WCS settings were created.\u001b[39m\u001b[38;5;124m\"\u001b[39m)\n\u001b[1;32m   2451\u001b[0m \u001b[38;5;28;01mreturn\u001b[39;00m \u001b[38;5;28mself\u001b[39m\u001b[38;5;241m.\u001b[39m_array_converter(\n\u001b[0;32m-> 2452\u001b[0m     \u001b[38;5;28;01mlambda\u001b[39;00m xy, o: \u001b[38;5;28mself\u001b[39m\u001b[38;5;241m.\u001b[39mwcs\u001b[38;5;241m.\u001b[39ms2p(xy, o)[\u001b[38;5;124m\"\u001b[39m\u001b[38;5;124mpixcrd\u001b[39m\u001b[38;5;124m\"\u001b[39m], \u001b[38;5;124m\"\u001b[39m\u001b[38;5;124minput\u001b[39m\u001b[38;5;124m\"\u001b[39m, \u001b[38;5;241m*\u001b[39margs, \u001b[38;5;241m*\u001b[39m\u001b[38;5;241m*\u001b[39mkwargs\n\u001b[1;32m   2453\u001b[0m )\n",
      "\u001b[0;31mKeyboardInterrupt\u001b[0m: "
     ]
    }
   ],
   "source": [
    "start = time.time()\n",
    "reprojected_source_reproj = reproject_interp(source_hdu, target_hdu.header,order='nearest-neighbor')[0]\n",
    "#reprojected_source_reproj = reproject_interp(target_hdu, source_hdu.header,order='bicubic')[0]\n",
    "print(f\"total time: {time.time()-start}\")"
   ]
  },
  {
   "cell_type": "code",
   "execution_count": null,
   "id": "3cf9d76075f98ee4",
   "metadata": {
    "ExecuteTime": {
     "end_time": "2025-07-16T18:32:00.136701Z",
     "start_time": "2025-07-16T18:31:59.691448Z"
    }
   },
   "outputs": [],
   "source": [
    "fig, axs = plt.subplots(1, 4, figsize=(12,6))\n",
    "axs[0].imshow(source_hdu.data, origin='lower', cmap=cmc.lipari)\n",
    "axs[0].set_title('Source')\n",
    "\n",
    "im1 = axs[1].imshow(reprojected_source_torch, origin='lower', cmap=cmc.lipari)\n",
    "axs[1].set_title(\"dfreproject\")\n",
    "\n",
    "im2 = axs[2].imshow(reprojected_source_reproj, origin='lower', cmap=cmc.lipari)\n",
    "axs[2].set_title(\"reproject\")\n",
    "\n",
    "diff_result = 100*(reprojected_source_torch.astype(np.float32)- reprojected_source_reproj.astype(np.float32))/reprojected_source_reproj.astype(np.float32)\n",
    "im3 = axs[3].imshow(diff_result, origin='lower', cmap=cmc.managua, vmin=-10, vmax=10)\n",
    "axs[3].set_title(\"Relative Difference in %\")\n",
    "\n",
    "cbar_ax = fig.add_axes([0.92, 0.325, 0.02, 0.34])  # [left, bottom, width, height]\n",
    "fig.colorbar(im3, cax=cbar_ax)\n",
    "plt.show()"
   ]
  },
  {
   "cell_type": "markdown",
   "id": "8634773583c9cf1a",
   "metadata": {},
   "source": [
    "As we can see the results are extremely similar. The differences are due to how the normalization is handled in our implementation versus reproject_interp."
   ]
  },
  {
   "cell_type": "markdown",
   "id": "da1803634ab75d92",
   "metadata": {},
   "source": [
    "### Bilinear"
   ]
  },
  {
   "cell_type": "code",
   "execution_count": null,
   "id": "ec83a6bfabd9b082",
   "metadata": {
    "ExecuteTime": {
     "end_time": "2025-07-16T18:32:00.513513Z",
     "start_time": "2025-07-16T18:32:00.141847Z"
    }
   },
   "outputs": [],
   "source": [
    "reprojected_source_torch = calculate_reprojection((source_hdu.data, source_hdu.header), WCS(target_hdu.header), shape_out=target_hdu.data.shape,\n",
    "                                                  order=\"bilinear\")\n",
    "reprojected_source_reproj = reproject_interp(source_hdu, target_hdu.header,order='bilinear')[0]\n",
    "fig, axs = plt.subplots(1, 4, figsize=(12,6))\n",
    "axs[0].imshow(source_hdu.data, origin='lower', cmap=cmc.lipari)\n",
    "axs[0].set_title('Source')\n",
    "\n",
    "im1 = axs[1].imshow(reprojected_source_torch, origin='lower', cmap=cmc.lipari)\n",
    "axs[1].set_title(\"dfreproject\")\n",
    "\n",
    "im2 = axs[2].imshow(reprojected_source_reproj, origin='lower', cmap=cmc.lipari)\n",
    "axs[2].set_title(\"reproject\")\n",
    "\n",
    "diff_result = 100*(reprojected_source_torch.astype(np.float32)- reprojected_source_reproj.astype(np.float32))/reprojected_source_reproj.astype(np.float32)\n",
    "im3 = axs[3].imshow(diff_result, origin='lower', cmap=cmc.managua, vmin=-10, vmax=10)\n",
    "axs[3].set_title(\"Relative Difference in %\")\n",
    "\n",
    "cbar_ax = fig.add_axes([0.92, 0.325, 0.02, 0.34])  # [left, bottom, width, height]\n",
    "fig.colorbar(im3, cax=cbar_ax)\n",
    "plt.show()"
   ]
  },
  {
   "cell_type": "markdown",
   "id": "37172bc74c7dba98",
   "metadata": {},
   "source": [
    "### Bicubic"
   ]
  },
  {
   "cell_type": "code",
   "execution_count": null,
   "id": "1a0354206f5918ed",
   "metadata": {
    "ExecuteTime": {
     "end_time": "2025-07-16T18:32:00.918100Z",
     "start_time": "2025-07-16T18:32:00.531229Z"
    }
   },
   "outputs": [],
   "source": [
    "reprojected_source_torch = calculate_reprojection((source_hdu.data, source_hdu.header), WCS(target_hdu.header), shape_out=target_hdu.data.shape,\n",
    "                                                  order=\"bicubic\")\n",
    "reprojected_source_reproj = reproject_interp(source_hdu, target_hdu.header,order='bicubic')[0]\n",
    "fig, axs = plt.subplots(1, 4, figsize=(12,6))\n",
    "axs[0].imshow(source_hdu.data, origin='lower', cmap=cmc.lipari)\n",
    "axs[0].set_title('Source')\n",
    "\n",
    "im1 = axs[1].imshow(reprojected_source_torch, origin='lower', cmap=cmc.lipari)\n",
    "axs[1].set_title(\"dfreproject\")\n",
    "\n",
    "im2 = axs[2].imshow(reprojected_source_reproj, origin='lower', cmap=cmc.lipari)\n",
    "axs[2].set_title(\"reproject\")\n",
    "\n",
    "diff_result = 100*(reprojected_source_torch.astype(np.float32)- reprojected_source_reproj.astype(np.float32))/reprojected_source_reproj.astype(np.float32)\n",
    "im3 = axs[3].imshow(diff_result, origin='lower', cmap=cmc.managua, vmin=-10, vmax=10)\n",
    "axs[3].set_title(\"Relative Difference in %\")\n",
    "\n",
    "cbar_ax = fig.add_axes([0.92, 0.325, 0.02, 0.34])  # [left, bottom, width, height]\n",
    "fig.colorbar(im3, cax=cbar_ax)\n",
    "plt.show()"
   ]
  },
  {
   "cell_type": "code",
   "execution_count": null,
   "id": "671c97e0ea903923",
   "metadata": {
    "ExecuteTime": {
     "end_time": "2025-07-16T18:32:00.941051Z",
     "start_time": "2025-07-16T18:32:00.938937Z"
    }
   },
   "outputs": [],
   "source": []
  }
 ],
 "metadata": {
  "kernelspec": {
   "display_name": "base",
   "language": "python",
   "name": "python3"
  },
  "language_info": {
   "codemirror_mode": {
    "name": "ipython",
    "version": 3
   },
   "file_extension": ".py",
   "mimetype": "text/x-python",
   "name": "python",
   "nbconvert_exporter": "python",
   "pygments_lexer": "ipython3",
   "version": "3.13.5"
  }
 },
 "nbformat": 4,
 "nbformat_minor": 5
}
