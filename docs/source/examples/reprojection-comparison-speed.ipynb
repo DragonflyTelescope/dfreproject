{
 "cells": [
  {
   "metadata": {},
   "cell_type": "markdown",
   "source": [
    "# Comparison of Interpolation Speeds\n",
    "We compare the results of our interpolation method versus reproject to verify the speed"
   ],
   "id": "cf9e6f3c3cb0b117"
  },
  {
   "metadata": {
    "ExecuteTime": {
     "end_time": "2025-02-24T20:51:06.864318Z",
     "start_time": "2025-02-24T20:51:04.739711Z"
    }
   },
   "cell_type": "code",
   "source": [
    "from astropy.io import fits\n",
    "import time\n",
    "from reprojection.reproject import calculate_reprojection\n",
    "from reproject import reproject_interp\n",
    "from demo.create_test_data import create_test_fits"
   ],
   "id": "e95959819f1dfec1",
   "outputs": [],
   "execution_count": 1
  },
  {
   "metadata": {
    "ExecuteTime": {
     "end_time": "2025-02-24T20:51:11.374867Z",
     "start_time": "2025-02-24T20:51:06.869480Z"
    }
   },
   "cell_type": "code",
   "source": [
    "source_file, target_file = create_test_fits()\n",
    "source_hdu = fits.open(source_file)[0]\n",
    "target_hdu = fits.open(target_file)[0]"
   ],
   "id": "cf9fee248fa3e643",
   "outputs": [],
   "execution_count": 2
  },
  {
   "metadata": {
    "ExecuteTime": {
     "end_time": "2025-02-24T20:51:12.436912Z",
     "start_time": "2025-02-24T20:51:11.478257Z"
    }
   },
   "cell_type": "code",
   "source": [
    "start = time.time()\n",
    "reprojected_source_torch = calculate_reprojection(source_hdu, target_hdu, interpolation_mode=\"bicubic\")\n",
    "print(f\"total time: {time.time()-start}\")"
   ],
   "id": "562cf4f9a6d0bb63",
   "outputs": [
    {
     "name": "stdout",
     "output_type": "stream",
     "text": [
      "total time: 0.9560394287109375\n"
     ]
    }
   ],
   "execution_count": 3
  },
  {
   "metadata": {
    "ExecuteTime": {
     "end_time": "2025-02-24T20:51:58.398096Z",
     "start_time": "2025-02-24T20:51:12.497048Z"
    }
   },
   "cell_type": "code",
   "source": [
    "start = time.time()\n",
    "reprojected_source_reproj = reproject_interp(source_hdu, source_hdu.header,order='bicubic')[0]\n",
    "print(f\"total time: {time.time()-start}\")"
   ],
   "id": "217fd46098b92fe6",
   "outputs": [
    {
     "name": "stdout",
     "output_type": "stream",
     "text": [
      "total time: 45.89822220802307\n"
     ]
    }
   ],
   "execution_count": 4
  },
  {
   "metadata": {},
   "cell_type": "markdown",
   "source": "As we can see, there is nearly a 50X speedup using the torch code (this is using the GPU). If there is no GPU present on your machine, the speedup will be on the order of 5-10X.",
   "id": "4ea4b0b0187cebfb"
  }
 ],
 "metadata": {
  "kernelspec": {
   "display_name": "Python 3",
   "language": "python",
   "name": "python3"
  },
  "language_info": {
   "codemirror_mode": {
    "name": "ipython",
    "version": 2
   },
   "file_extension": ".py",
   "mimetype": "text/x-python",
   "name": "python",
   "nbconvert_exporter": "python",
   "pygments_lexer": "ipython2",
   "version": "2.7.6"
  }
 },
 "nbformat": 4,
 "nbformat_minor": 5
}
